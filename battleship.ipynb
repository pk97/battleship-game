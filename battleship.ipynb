{
 "cells": [
  {
   "cell_type": "code",
   "execution_count": 3,
   "metadata": {},
   "outputs": [
    {
     "name": "stdout",
     "output_type": "stream",
     "text": [
      "O O O O O\n",
      "O O O O O\n",
      "O O O O O\n",
      "O O O O O\n",
      "O O O O O\n",
      "Turn 1\n",
      "Guess Row: 1\n",
      "Guess Col: 3\n",
      "You missed my battleship!\n",
      "O O O O O\n",
      "O O O X O\n",
      "O O O O O\n",
      "O O O O O\n",
      "O O O O O\n",
      "Turn 2\n",
      "Guess Row: 4\n",
      "Guess Col: 0\n",
      "You missed my battleship!\n",
      "O O O O O\n",
      "O O O X O\n",
      "O O O O O\n",
      "O O O O O\n",
      "X O O O O\n",
      "Turn 3\n",
      "Guess Row: 3\n",
      "Guess Col: 3\n",
      "You missed my battleship!\n",
      "O O O O O\n",
      "O O O X O\n",
      "O O O O O\n",
      "O O O X O\n",
      "X O O O O\n",
      "Turn 4\n",
      "Guess Row: 1\n",
      "Guess Col: 2\n",
      "You missed my battleship!\n",
      "Game Over\n",
      "battleship is at +4 3\n",
      "O O O O O\n",
      "O O X X O\n",
      "O O O O O\n",
      "O O O X O\n",
      "X O O O O\n"
     ]
    }
   ],
   "source": [
    "from random import randint\n",
    "\n",
    "board = []\n",
    "\n",
    "for x in range(0, 5):\n",
    "  board.append([\"O\"] * 5)\n",
    "\n",
    "def print_board(board):\n",
    "  for row in board:\n",
    "    print (\" \".join(row))\n",
    "\n",
    "print_board(board)\n",
    "\n",
    "def random_row(board):\n",
    "  return randint(0, len(board) - 1)\n",
    "\n",
    "def random_col(board):\n",
    "  return randint(0, len(board[0]) - 1)\n",
    "\n",
    "ship_row = random_row(board)\n",
    "ship_col = random_col(board)\n",
    "\n",
    "# Everything from here on should be in your for loop\n",
    "# don't forget to properly indent!\n",
    "for turn in range(4):\n",
    "  print (\"Turn\", turn + 1)\n",
    "  guess_row = int(input(\"Guess Row: \"))\n",
    "  guess_col = int(input(\"Guess Col: \"))\n",
    "\n",
    "  if guess_row == ship_row and guess_col == ship_col:\n",
    "    print (\"Congratulations! You sank my battleship!\")\n",
    "    break\n",
    "  else:\n",
    "    if guess_row not in range(5) or \\\n",
    "      guess_col not in range(5):\n",
    "      print (\"Oops, that's not even in the ocean.\")\n",
    "    elif board[guess_row][guess_col] == \"X\":\n",
    "      print( \"You guessed that one already.\" )\n",
    "    else:\n",
    "      print (\"You missed my battleship!\")\n",
    "      board[guess_row][guess_col] = \"X\"\n",
    "    if (turn == 3):\n",
    "      print (\"Game Over\")\n",
    "      print (\"battleship is at +\"+str(ship_row)+\" \"+str(ship_col) )  \n",
    "    print_board(board)"
   ]
  },
  {
   "cell_type": "code",
   "execution_count": null,
   "metadata": {},
   "outputs": [],
   "source": []
  },
  {
   "cell_type": "code",
   "execution_count": 11,
   "metadata": {},
   "outputs": [],
   "source": [
    "from random import randint\n",
    "board = []\n",
    "\n",
    "for i in range(5):\n",
    "     board.append([\"O\"]*5)\n"
   ]
  },
  {
   "cell_type": "code",
   "execution_count": null,
   "metadata": {},
   "outputs": [],
   "source": []
  },
  {
   "cell_type": "code",
   "execution_count": 13,
   "metadata": {},
   "outputs": [
    {
     "name": "stdout",
     "output_type": "stream",
     "text": [
      "O O O O O\n",
      "O O O O O\n",
      "O O O O O\n",
      "O O O O O\n",
      "O O O O O\n"
     ]
    }
   ],
   "source": [
    "def print_board(board_in):\n",
    "    for i in range(5):\n",
    "        print (\" \".join(board[i]))\n",
    "\n",
    "print_board(board)"
   ]
  },
  {
   "cell_type": "code",
   "execution_count": 16,
   "metadata": {},
   "outputs": [
    {
     "name": "stdout",
     "output_type": "stream",
     "text": [
      "ship_row and ship_col at\n",
      "2\n",
      "1\n"
     ]
    }
   ],
   "source": [
    "ship_row = randint(0,5)\n",
    "ship_col = randint(0,5)\n",
    "\n",
    "print (\"ship_row and ship_col at\")\n",
    "print (ship_row)\n",
    "print(ship_col)"
   ]
  },
  {
   "cell_type": "code",
   "execution_count": 21,
   "metadata": {},
   "outputs": [
    {
     "name": "stdout",
     "output_type": "stream",
     "text": [
      "ENTER ROW 0-41\n",
      "ENTER COL 0-42\n",
      "Already marked\n",
      "O O X O O\n",
      "O O X X X\n",
      "O O O X O\n",
      "O X O X O\n",
      "O O O O O\n",
      "ENTER ROW 0-42\n",
      "ENTER COL 0-42\n",
      "Wrong answer!\n",
      "O O X O O\n",
      "O O X X X\n",
      "O O X X O\n",
      "O X O X O\n",
      "O O O O O\n",
      "ENTER ROW 0-44\n",
      "ENTER COL 0-43\n",
      "Wrong answer!\n",
      "O O X O O\n",
      "O O X X X\n",
      "O O X X O\n",
      "O X O X O\n",
      "O O O X O\n",
      "ENTER ROW 0-41\n",
      "ENTER COL 0-42\n",
      "Already marked\n",
      "game over\n",
      "O O X O O\n",
      "O O X X X\n",
      "O O X X O\n",
      "O X O X O\n",
      "O O O X O\n"
     ]
    }
   ],
   "source": [
    "for turn in range(4):\n",
    "    \n",
    "    guessed_row = int(input(\"ENTER ROW 0-4\"))\n",
    "    guessed_col = int(input(\"ENTER COL 0-4\"))\n",
    "\n",
    "    if guessed_row == ship_row and guessed_col == ship_col:\n",
    "        print(\"battleship sanked\")\n",
    "        break\n",
    "    else:\n",
    "        if guessed_row > 4 or guessed_col > 4:\n",
    "            print(\"not of range input\")\n",
    "        elif board[guessed_row][guessed_col] == \"X\":\n",
    "            print(\"Already marked\")\n",
    "        else:\n",
    "            print(\"Wrong answer!\")\n",
    "            board[guessed_row][guessed_col]=\"X\"\n",
    "        if turn == 3:\n",
    "            print(\"game over\")\n",
    "    print_board(board)         "
   ]
  },
  {
   "cell_type": "code",
   "execution_count": 23,
   "metadata": {},
   "outputs": [
    {
     "name": "stdout",
     "output_type": "stream",
     "text": [
      "O O O O O\n",
      "O O O O O\n",
      "O O O O O\n",
      "O O O O O\n",
      "O O O O O\n",
      "ship_row and ship_col at\n",
      "0\n",
      "2\n",
      "ENTER ROW 0-40\n",
      "ENTER COL 0-42\n",
      "battleship sanked\n"
     ]
    }
   ],
   "source": [
    "from random import randint\n",
    "board = []\n",
    "\n",
    "for i in range(5):\n",
    "     board.append([\"O\"]*5)\n",
    "\n",
    "def print_board(board_in):\n",
    "    for i in range(5):\n",
    "        print (\" \".join(board[i]))\n",
    "\n",
    "print_board(board)\n",
    "\n",
    "ship_row = randint(0,5)\n",
    "ship_col = randint(0,5)\n",
    "\n",
    "print (\"ship_row and ship_col at\")\n",
    "print (ship_row)\n",
    "print(ship_col)\n",
    "\n",
    "for turn in range(4):\n",
    "    \n",
    "    guessed_row = int(input(\"ENTER ROW 0-4\"))\n",
    "    guessed_col = int(input(\"ENTER COL 0-4\"))\n",
    "\n",
    "    if guessed_row == ship_row and guessed_col == ship_col:\n",
    "        print(\"battleship sanked\")\n",
    "        break\n",
    "    else:\n",
    "        if guessed_row > 4 or guessed_col > 4:\n",
    "            print(\"not of range input\")\n",
    "        elif board[guessed_row][guessed_col] == \"X\":\n",
    "            print(\"Already marked\")\n",
    "        else:\n",
    "            print(\"Wrong answer!\")\n",
    "            board[guessed_row][guessed_col]=\"X\"\n",
    "        if turn == 3:\n",
    "            print(\"game over\")\n",
    "            print(\"ship was at \"+str(ship_row)+\",\" +str(ship_col))\n",
    "    print_board(board)   "
   ]
  },
  {
   "cell_type": "code",
   "execution_count": null,
   "metadata": {},
   "outputs": [],
   "source": []
  },
  {
   "cell_type": "code",
   "execution_count": null,
   "metadata": {},
   "outputs": [],
   "source": []
  },
  {
   "cell_type": "code",
   "execution_count": null,
   "metadata": {},
   "outputs": [],
   "source": []
  },
  {
   "cell_type": "code",
   "execution_count": null,
   "metadata": {},
   "outputs": [],
   "source": []
  },
  {
   "cell_type": "code",
   "execution_count": null,
   "metadata": {},
   "outputs": [],
   "source": []
  },
  {
   "cell_type": "code",
   "execution_count": null,
   "metadata": {},
   "outputs": [],
   "source": []
  },
  {
   "cell_type": "code",
   "execution_count": null,
   "metadata": {},
   "outputs": [],
   "source": []
  },
  {
   "cell_type": "code",
   "execution_count": null,
   "metadata": {},
   "outputs": [],
   "source": []
  },
  {
   "cell_type": "code",
   "execution_count": null,
   "metadata": {},
   "outputs": [],
   "source": []
  },
  {
   "cell_type": "code",
   "execution_count": null,
   "metadata": {},
   "outputs": [],
   "source": []
  },
  {
   "cell_type": "code",
   "execution_count": null,
   "metadata": {},
   "outputs": [],
   "source": []
  },
  {
   "cell_type": "code",
   "execution_count": null,
   "metadata": {},
   "outputs": [],
   "source": []
  },
  {
   "cell_type": "code",
   "execution_count": null,
   "metadata": {},
   "outputs": [],
   "source": []
  },
  {
   "cell_type": "code",
   "execution_count": null,
   "metadata": {},
   "outputs": [],
   "source": []
  },
  {
   "cell_type": "code",
   "execution_count": null,
   "metadata": {},
   "outputs": [],
   "source": []
  },
  {
   "cell_type": "code",
   "execution_count": null,
   "metadata": {},
   "outputs": [],
   "source": []
  },
  {
   "cell_type": "code",
   "execution_count": null,
   "metadata": {},
   "outputs": [],
   "source": []
  }
 ],
 "metadata": {
  "kernelspec": {
   "display_name": "Python 3",
   "language": "python",
   "name": "python3"
  },
  "language_info": {
   "codemirror_mode": {
    "name": "ipython",
    "version": 3
   },
   "file_extension": ".py",
   "mimetype": "text/x-python",
   "name": "python",
   "nbconvert_exporter": "python",
   "pygments_lexer": "ipython3",
   "version": "3.6.5"
  }
 },
 "nbformat": 4,
 "nbformat_minor": 2
}
